{
  "cells": [
    {
      "cell_type": "code",
      "execution_count": 1,
      "metadata": {
        "id": "R3Mz2BYK14kr"
      },
      "outputs": [],
      "source": [
        "import matplotlib\n",
        "import matplotlib.pyplot as plt\n",
        "from matplotlib import rc\n",
        "import numpy as np\n",
        "from matplotlib import colors"
      ]
    },
    {
      "cell_type": "markdown",
      "metadata": {
        "id": "fBlZzbCa14ks"
      },
      "source": [
        "Funkcje do zaimplementowania:"
      ]
    },
    {
      "cell_type": "code",
      "execution_count": 235,
      "metadata": {
        "id": "b4lwGNOv14ku"
      },
      "outputs": [],
      "source": [
        "#konwerter: nie trzeba implementowaÄ samemu, moĹźna wykorzystaÄ funkcjÄ z bilbioteki\n",
        "def hsv2rgb(h, s, v):\n",
        "    #TODO\n",
        "    # funkcja z biblioteki\n",
        "    h, s, v = colors.hsv_to_rgb((h, s, v))\n",
        "    return (h, s, v)\n",
        "\n",
        "\n",
        "\n",
        "# poniĹźej znajdujÄ\n",
        "# siÄ funkcje modelujÄ\n",
        "#ce kolejne gradienty z zadania.\n",
        "# v to pozycja na osi ox: v jest od 0 do 1. Zewnetrzna funkcja wywoĹuje te metody podajÄ\n",
        "#c\n",
        "# rĂłĹźne v i oczekujÄ\n",
        "#c trĂłjki RGB bÄ\n",
        "#dĹş HSV reprezentujÄ\n",
        "#cej kolor. Np. (0,0,0) w RGB to kolor czarny.\n",
        "# NaleĹźy uwikĹaÄ v w funkcjÄ modelujÄ\n",
        "#cÄ\n",
        "# kolor. W tym celu dla kolejnych gradientĂłw trzeba przyjÄ\n",
        "#Ä\n",
        "# sobie jakieĹ punkty charakterystyczne,\n",
        "# np. widzimy, Ĺźe po lewej stronie (dla v = 0) powinien byÄ kolor zielony a w Ĺrodku niebieski (dla v = 0.5),\n",
        "# a wszystkie punkty pomiÄdzy naleĹźy interpolowaÄ liniowo (proporcjonalnie).\n",
        "\n",
        "def gradient_rgb_bw(v):\n",
        "    #TODO\n",
        "    return (v, v, v)\n",
        "\n",
        "\n",
        "def gradient_rgb_gbr(v):\n",
        "    if (v <= 0.5):\n",
        "      return (0, (0.5 - v) * 2, v * 2)\n",
        "    else:\n",
        "      v = v - 0.5\n",
        "      return (v * 2, 0, (0.5 - v) * 2)\n",
        "\n",
        "\n",
        "\n",
        "\n",
        "def gradient_rgb_gbr_full(v):\n",
        "    if (v <= 0.25):\n",
        "      return (0, (0.5 - v) * 4, v * 4)\n",
        "    elif (v <= 0.5):\n",
        "      return (0, (0.5 - v) * 4, v * 4)\n",
        "    elif (v <= 0.75):\n",
        "      v = v - 0.5\n",
        "      return (v * 4, 0, (1 - v) * 4)\n",
        "    else:\n",
        "      return (v * 4, 0, (1 - v) * 4)\n",
        "\n",
        "\n",
        "\n",
        "def gradient_rgb_wb_custom(v):\n",
        "    #if (v <= 0.2):\n",
        "     # return (1, 1 - v * 5, 1)\n",
        "    #elif (v <= 0.4):\n",
        "\n",
        "     # return (1 - (v - 0.2) * 5, 0, 1)\n",
        "    #elif (v <= 0.6):\n",
        "      #return (0, (v - 0.4) * 5, 1)\n",
        "    if (v <= 1/7):\n",
        "      return (1 - v * 7, 1, 1)\n",
        "    elif(v <= 2/7):\n",
        "      v = v - 1/7\n",
        "      return (0, 1 - v * 7, 1)\n",
        "    elif(v <= 3/7):\n",
        "      v = v - 2/7\n",
        "      return (v * 7, 0, 1)\n",
        "    elif(v <= 4/7):\n",
        "      v = v - 3/7\n",
        "      return (1, 0, 1 - v * 7)\n",
        "    elif(v <= 5/7):\n",
        "      v = v - 4/7\n",
        "      return (1, v * 7, 0)\n",
        "    elif(v <= 6/7):\n",
        "      v = v - 5/7\n",
        "      return (1 - v * 7, 1, 0)\n",
        "    else:\n",
        "      v = v - 6/7\n",
        "      return (0, 1 - v * 7, 0)\n",
        "\n",
        "\n",
        "\n",
        "\n",
        "\n",
        "def gradient_hsv_bw(v):\n",
        "\n",
        "    return hsv2rgb(0, 0, v)\n",
        "\n",
        "\n",
        "def gradient_hsv_gbr(v):\n",
        "\n",
        "    return hsv2rgb(2 * v/3 + 1/3 , 1, 1)\n",
        "\n",
        "def gradient_hsv_unknown(v):\n",
        "\n",
        "    return hsv2rgb(1/3 - (1/3) * v, 0.6, 1)\n",
        "\n",
        "\n",
        "def gradient_hsv_custom(v):\n",
        "\n",
        "    return hsv2rgb(v, 1 - v, 1)"
      ]
    },
    {
      "cell_type": "code",
      "execution_count": 159,
      "metadata": {
        "id": "63G5Q2QI14ku"
      },
      "outputs": [],
      "source": [
        "def plot_color_gradients(gradients, names):\n",
        "    # For pretty latex fonts (commented out, because it does not work on some machines)\n",
        "    #rc('text', usetex=True)\n",
        "    #rc('font', family='serif', serif=['Times'], size=10)\n",
        "    rc('legend', fontsize=10)\n",
        "\n",
        "    column_width_pt = 400         # Show in latex using \\the\\linewidth\n",
        "    pt_per_inch = 72\n",
        "    size = column_width_pt / pt_per_inch\n",
        "\n",
        "    fig, axes = plt.subplots(nrows=len(gradients), sharex=True, figsize=(size, 0.75 * size))\n",
        "    fig.subplots_adjust(top=1.00, bottom=0.05, left=0.25, right=0.95)\n",
        "\n",
        "\n",
        "    for ax, gradient, name in zip(axes, gradients, names):\n",
        "        # Create image with two lines and draw gradient on it\n",
        "        img = np.zeros((2, 1024, 3))\n",
        "        for i, v in enumerate(np.linspace(0, 1, 1024)):\n",
        "            img[:, i] = gradient(v)\n",
        "\n",
        "        im = ax.imshow(img, aspect='auto')\n",
        "        im.set_extent([0, 1, 0, 1])\n",
        "        ax.yaxis.set_visible(False)\n",
        "\n",
        "        pos = list(ax.get_position().bounds)\n",
        "        x_text = pos[0] - 0.25\n",
        "        y_text = pos[1] + pos[3]/2.\n",
        "        fig.text(x_text, y_text, name, va='center', ha='left', fontsize=10)\n",
        "\n",
        "    fig.savefig('my-gradients.pdf')"
      ]
    },
    {
      "cell_type": "code",
      "execution_count": 236,
      "metadata": {
        "colab": {
          "base_uri": "https://localhost:8080/",
          "height": 511
        },
        "id": "rM1NVcGg14kv",
        "outputId": "5245798b-2093-4cb6-e7c2-05a7432ab1f0"
      },
      "outputs": [
        {
          "output_type": "stream",
          "name": "stderr",
          "text": [
            "WARNING:matplotlib.image:Clipping input data to the valid range for imshow with RGB data ([0..1] for floats or [0..255] for integers).\n",
            "WARNING:matplotlib.image:Clipping input data to the valid range for imshow with RGB data ([0..1] for floats or [0..255] for integers).\n"
          ]
        },
        {
          "output_type": "display_data",
          "data": {
            "text/plain": [
              "<Figure size 555.556x416.667 with 8 Axes>"
            ],
            "image/png": "[encoded data removed]"
          },
          "metadata": {}
        }
      ],
      "source": [
        "def toname(g):\n",
        "    return g.__name__.replace('gradient_', '').replace('_', '-').upper()\n",
        "\n",
        "gradients = (gradient_rgb_bw, gradient_rgb_gbr, gradient_rgb_gbr_full, gradient_rgb_wb_custom,\n",
        "                 gradient_hsv_bw, gradient_hsv_gbr, gradient_hsv_unknown, gradient_hsv_custom)\n",
        "\n",
        "plot_color_gradients(gradients, [toname(g) for g in gradients])"
      ]
    },
    {
      "cell_type": "code",
      "execution_count": null,
      "metadata": {
        "id": "k3qis2PQ14kw"
      },
      "outputs": [],
      "source": []
    },
    {
      "cell_type": "code",
      "execution_count": null,
      "metadata": {
        "id": "ZT-n6fc514kw"
      },
      "outputs": [],
      "source": []
    }
  ],
  "metadata": {
    "kernelspec": {
      "display_name": "Python 3",
      "language": "python",
      "name": "python3"
    },
    "language_info": {
      "codemirror_mode": {
        "name": "ipython",
        "version": 3
      },
      "file_extension": ".py",
      "mimetype": "text/x-python",
      "name": "python",
      "nbconvert_exporter": "python",
      "pygments_lexer": "ipython3",
      "version": "3.8.5"
    },
    "colab": {
      "provenance": []
    }
  },
  "nbformat": 4,
  "nbformat_minor": 0
}